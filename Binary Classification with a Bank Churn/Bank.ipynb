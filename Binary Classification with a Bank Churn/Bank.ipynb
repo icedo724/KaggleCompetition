{
  "cells": [
    {
      "cell_type": "code",
      "execution_count": null,
      "id": "2fc3cdab-60e9-4d27-9881-dd9b5df1cf19",
      "metadata": {
        "id": "2fc3cdab-60e9-4d27-9881-dd9b5df1cf19"
      },
      "outputs": [],
      "source": [
        "import pandas as pd\n",
        "import matplotlib.pyplot as plt\n",
        "from sklearn.preprocessing import LabelEncoder, StandardScaler, MinMaxScaler\n",
        "from sklearn.model_selection import train_test_split, GridSearchCV\n",
        "from catboost import CatBoostClassifier\n",
        "from sklearn.metrics import accuracy_score, roc_curve, auc\n",
        "from lightgbm import LGBMClassifier\n",
        "import numpy as np\n",
        "from xgboost import XGBClassifier"
      ]
    },
    {
      "cell_type": "code",
      "execution_count": null,
      "id": "923764b0-4382-4322-8c33-9efff5f2ae7e",
      "metadata": {
        "id": "923764b0-4382-4322-8c33-9efff5f2ae7e"
      },
      "outputs": [],
      "source": [
        "train = pd.read_csv('train.csv')\n",
        "test = pd.read_csv('test.csv')\n",
        "origin = pd.read_csv('origin.csv')"
      ]
    },
    {
      "cell_type": "code",
      "execution_count": null,
      "id": "1e914692-e4ff-499e-b727-959f89fe806f",
      "metadata": {
        "id": "1e914692-e4ff-499e-b727-959f89fe806f"
      },
      "outputs": [],
      "source": [
        "origin.rename(columns = {'RowNumber':'id'}, inplace=True)"
      ]
    },
    {
      "cell_type": "code",
      "execution_count": null,
      "id": "3cb39394-0323-4003-9cf6-14b97e6e1229",
      "metadata": {
        "id": "3cb39394-0323-4003-9cf6-14b97e6e1229"
      },
      "outputs": [],
      "source": [
        "test_id = test['id']"
      ]
    },
    {
      "cell_type": "code",
      "execution_count": null,
      "id": "571c3878-5f2a-4b1b-8dac-a431cdd05b53",
      "metadata": {
        "id": "571c3878-5f2a-4b1b-8dac-a431cdd05b53"
      },
      "outputs": [],
      "source": [
        "def drop_useless(df):\n",
        "    df.drop(['id', 'CustomerId', 'Surname'], axis=1, inplace=True)\n",
        "    return df"
      ]
    },
    {
      "cell_type": "code",
      "execution_count": null,
      "id": "5bdc6119-05b1-497c-adc7-7950021fc466",
      "metadata": {
        "id": "5bdc6119-05b1-497c-adc7-7950021fc466",
        "outputId": "95678725-74e6-4c08-a49a-ae698ab4a5c7"
      },
      "outputs": [
        {
          "data": {
            "text/html": [
              "<div>\n",
              "<style scoped>\n",
              "    .dataframe tbody tr th:only-of-type {\n",
              "        vertical-align: middle;\n",
              "    }\n",
              "\n",
              "    .dataframe tbody tr th {\n",
              "        vertical-align: top;\n",
              "    }\n",
              "\n",
              "    .dataframe thead th {\n",
              "        text-align: right;\n",
              "    }\n",
              "</style>\n",
              "<table border=\"1\" class=\"dataframe\">\n",
              "  <thead>\n",
              "    <tr style=\"text-align: right;\">\n",
              "      <th></th>\n",
              "      <th>CreditScore</th>\n",
              "      <th>Geography</th>\n",
              "      <th>Gender</th>\n",
              "      <th>Age</th>\n",
              "      <th>Tenure</th>\n",
              "      <th>Balance</th>\n",
              "      <th>NumOfProducts</th>\n",
              "      <th>HasCrCard</th>\n",
              "      <th>IsActiveMember</th>\n",
              "      <th>EstimatedSalary</th>\n",
              "    </tr>\n",
              "  </thead>\n",
              "  <tbody>\n",
              "    <tr>\n",
              "      <th>0</th>\n",
              "      <td>586</td>\n",
              "      <td>France</td>\n",
              "      <td>Female</td>\n",
              "      <td>23.0</td>\n",
              "      <td>2</td>\n",
              "      <td>0.00</td>\n",
              "      <td>2</td>\n",
              "      <td>0.0</td>\n",
              "      <td>1.0</td>\n",
              "      <td>160976.75</td>\n",
              "    </tr>\n",
              "    <tr>\n",
              "      <th>1</th>\n",
              "      <td>683</td>\n",
              "      <td>France</td>\n",
              "      <td>Female</td>\n",
              "      <td>46.0</td>\n",
              "      <td>2</td>\n",
              "      <td>0.00</td>\n",
              "      <td>1</td>\n",
              "      <td>1.0</td>\n",
              "      <td>0.0</td>\n",
              "      <td>72549.27</td>\n",
              "    </tr>\n",
              "    <tr>\n",
              "      <th>2</th>\n",
              "      <td>656</td>\n",
              "      <td>France</td>\n",
              "      <td>Female</td>\n",
              "      <td>34.0</td>\n",
              "      <td>7</td>\n",
              "      <td>0.00</td>\n",
              "      <td>2</td>\n",
              "      <td>1.0</td>\n",
              "      <td>0.0</td>\n",
              "      <td>138882.09</td>\n",
              "    </tr>\n",
              "    <tr>\n",
              "      <th>3</th>\n",
              "      <td>681</td>\n",
              "      <td>France</td>\n",
              "      <td>Male</td>\n",
              "      <td>36.0</td>\n",
              "      <td>8</td>\n",
              "      <td>0.00</td>\n",
              "      <td>1</td>\n",
              "      <td>1.0</td>\n",
              "      <td>0.0</td>\n",
              "      <td>113931.57</td>\n",
              "    </tr>\n",
              "    <tr>\n",
              "      <th>4</th>\n",
              "      <td>752</td>\n",
              "      <td>Germany</td>\n",
              "      <td>Male</td>\n",
              "      <td>38.0</td>\n",
              "      <td>10</td>\n",
              "      <td>121263.62</td>\n",
              "      <td>1</td>\n",
              "      <td>1.0</td>\n",
              "      <td>0.0</td>\n",
              "      <td>139431.00</td>\n",
              "    </tr>\n",
              "    <tr>\n",
              "      <th>...</th>\n",
              "      <td>...</td>\n",
              "      <td>...</td>\n",
              "      <td>...</td>\n",
              "      <td>...</td>\n",
              "      <td>...</td>\n",
              "      <td>...</td>\n",
              "      <td>...</td>\n",
              "      <td>...</td>\n",
              "      <td>...</td>\n",
              "      <td>...</td>\n",
              "    </tr>\n",
              "    <tr>\n",
              "      <th>110018</th>\n",
              "      <td>570</td>\n",
              "      <td>Spain</td>\n",
              "      <td>Male</td>\n",
              "      <td>29.0</td>\n",
              "      <td>7</td>\n",
              "      <td>116099.82</td>\n",
              "      <td>1</td>\n",
              "      <td>1.0</td>\n",
              "      <td>1.0</td>\n",
              "      <td>148087.62</td>\n",
              "    </tr>\n",
              "    <tr>\n",
              "      <th>110019</th>\n",
              "      <td>575</td>\n",
              "      <td>France</td>\n",
              "      <td>Female</td>\n",
              "      <td>36.0</td>\n",
              "      <td>4</td>\n",
              "      <td>178032.53</td>\n",
              "      <td>1</td>\n",
              "      <td>1.0</td>\n",
              "      <td>1.0</td>\n",
              "      <td>42181.68</td>\n",
              "    </tr>\n",
              "    <tr>\n",
              "      <th>110020</th>\n",
              "      <td>712</td>\n",
              "      <td>France</td>\n",
              "      <td>Male</td>\n",
              "      <td>31.0</td>\n",
              "      <td>2</td>\n",
              "      <td>0.00</td>\n",
              "      <td>2</td>\n",
              "      <td>1.0</td>\n",
              "      <td>0.0</td>\n",
              "      <td>16287.38</td>\n",
              "    </tr>\n",
              "    <tr>\n",
              "      <th>110021</th>\n",
              "      <td>709</td>\n",
              "      <td>France</td>\n",
              "      <td>Female</td>\n",
              "      <td>32.0</td>\n",
              "      <td>3</td>\n",
              "      <td>0.00</td>\n",
              "      <td>1</td>\n",
              "      <td>1.0</td>\n",
              "      <td>1.0</td>\n",
              "      <td>158816.58</td>\n",
              "    </tr>\n",
              "    <tr>\n",
              "      <th>110022</th>\n",
              "      <td>621</td>\n",
              "      <td>France</td>\n",
              "      <td>Female</td>\n",
              "      <td>37.0</td>\n",
              "      <td>7</td>\n",
              "      <td>87848.39</td>\n",
              "      <td>1</td>\n",
              "      <td>1.0</td>\n",
              "      <td>0.0</td>\n",
              "      <td>24210.56</td>\n",
              "    </tr>\n",
              "  </tbody>\n",
              "</table>\n",
              "<p>110023 rows × 10 columns</p>\n",
              "</div>"
            ],
            "text/plain": [
              "        CreditScore Geography  Gender   Age  Tenure    Balance  NumOfProducts  \\\n",
              "0               586    France  Female  23.0       2       0.00              2   \n",
              "1               683    France  Female  46.0       2       0.00              1   \n",
              "2               656    France  Female  34.0       7       0.00              2   \n",
              "3               681    France    Male  36.0       8       0.00              1   \n",
              "4               752   Germany    Male  38.0      10  121263.62              1   \n",
              "...             ...       ...     ...   ...     ...        ...            ...   \n",
              "110018          570     Spain    Male  29.0       7  116099.82              1   \n",
              "110019          575    France  Female  36.0       4  178032.53              1   \n",
              "110020          712    France    Male  31.0       2       0.00              2   \n",
              "110021          709    France  Female  32.0       3       0.00              1   \n",
              "110022          621    France  Female  37.0       7   87848.39              1   \n",
              "\n",
              "        HasCrCard  IsActiveMember  EstimatedSalary  \n",
              "0             0.0             1.0        160976.75  \n",
              "1             1.0             0.0         72549.27  \n",
              "2             1.0             0.0        138882.09  \n",
              "3             1.0             0.0        113931.57  \n",
              "4             1.0             0.0        139431.00  \n",
              "...           ...             ...              ...  \n",
              "110018        1.0             1.0        148087.62  \n",
              "110019        1.0             1.0         42181.68  \n",
              "110020        1.0             0.0         16287.38  \n",
              "110021        1.0             1.0        158816.58  \n",
              "110022        1.0             0.0         24210.56  \n",
              "\n",
              "[110023 rows x 10 columns]"
            ]
          },
          "execution_count": 6,
          "metadata": {},
          "output_type": "execute_result"
        }
      ],
      "source": [
        "drop_useless(train)\n",
        "drop_useless(origin)\n",
        "drop_useless(test)"
      ]
    },
    {
      "cell_type": "code",
      "execution_count": null,
      "id": "a00aaf77-d989-4c86-a106-52a4ff0c9c94",
      "metadata": {
        "id": "a00aaf77-d989-4c86-a106-52a4ff0c9c94"
      },
      "outputs": [],
      "source": [
        "# train과 원본 데이터 병합\n",
        "train = pd.concat([train, origin], ignore_index=True)\n",
        "\n",
        "# 중복 열 제거\n",
        "train.drop_duplicates(inplace=True)"
      ]
    },
    {
      "cell_type": "code",
      "execution_count": null,
      "id": "592e6d72-a597-4cfe-98d5-19dba172a66e",
      "metadata": {
        "id": "592e6d72-a597-4cfe-98d5-19dba172a66e"
      },
      "outputs": [],
      "source": [
        "# 각 열의 최빈값(mode)을 구하고 이를 딕셔너리에 저장\n",
        "mode_values_train = train.mode().iloc[0]\n",
        "\n",
        "# 각 열의 결측치를 해당 열의 최빈값으로 대체\n",
        "train.fillna(mode_values_train, inplace=True)\n",
        "\n",
        "# test에 대해서 동일하게 적용\n",
        "mode_values_test = test.mode().iloc[0]\n",
        "test.fillna(mode_values_test, inplace=True)"
      ]
    },
    {
      "cell_type": "code",
      "execution_count": null,
      "id": "2960d742-3492-42c6-a62f-e05a2f984136",
      "metadata": {
        "id": "2960d742-3492-42c6-a62f-e05a2f984136"
      },
      "outputs": [],
      "source": [
        "# 범주형 데이터를 구분 후 각각의 변수에 저장\n",
        "# train과 test 두 데이터에 대해 각각 적용\n",
        "num_cols = list(train.select_dtypes(exclude=['object']).columns)\n",
        "\n",
        "num_cols_test = list(test.select_dtypes(exclude=['object']).columns)\n",
        "\n",
        "# Encoding이 필요하지 않은 경우 저장하지 않음\n",
        "num_cols = [col for col in num_cols if col not in ['Exited', 'IsActiveMember', 'HasCrCard']]\n",
        "num_cols_test = [col for col in num_cols_test if col not in ['Exited', 'IsActiveMember', 'HasCrCard']]"
      ]
    },
    {
      "cell_type": "code",
      "execution_count": null,
      "id": "d299acf6-afd7-4dee-9ed4-181c208c74d6",
      "metadata": {
        "id": "d299acf6-afd7-4dee-9ed4-181c208c74d6"
      },
      "outputs": [],
      "source": [
        "# 두 방법 중 하나 선택 후 비교\n",
        "# StandardScaler를 통해 수치형 데이터를 표준화\n",
        "# scaler = StandardScaler()\n",
        "# train[num_cols] = scaler.fit_transform(train[num_cols])\n",
        "# test[num_cols_test] = scaler.transform(test[num_cols_test])\n",
        "\n",
        "# MinMaxScaler 통해 수치형 데이터를 표준화 - 조금 더 높은 성능을 보임\n",
        "scaler = MinMaxScaler()\n",
        "train[num_cols] = scaler.fit_transform(train[num_cols])\n",
        "test[num_cols_test] = scaler.transform(test[num_cols_test])"
      ]
    },
    {
      "cell_type": "code",
      "execution_count": null,
      "id": "f64dc867-32e9-4c82-89c1-1cad83b6f7b8",
      "metadata": {
        "id": "f64dc867-32e9-4c82-89c1-1cad83b6f7b8"
      },
      "outputs": [],
      "source": [
        "labelencoder = LabelEncoder()\n",
        "train['Gender']=labelencoder.fit_transform(train['Gender'])\n",
        "test['Gender']=labelencoder.fit_transform(test['Gender'])"
      ]
    },
    {
      "cell_type": "code",
      "execution_count": null,
      "id": "0f31dd39-8dbf-4b63-97d0-881190311dab",
      "metadata": {
        "id": "0f31dd39-8dbf-4b63-97d0-881190311dab"
      },
      "outputs": [],
      "source": [
        "# Geography OneHotEncoding\n",
        "train = pd.get_dummies(train, columns=['Geography'])\n",
        "test = pd.get_dummies(test, columns=['Geography'])"
      ]
    },
    {
      "cell_type": "code",
      "execution_count": null,
      "id": "b0dab28c-e3e6-4f53-be93-3fa4753d4197",
      "metadata": {
        "id": "b0dab28c-e3e6-4f53-be93-3fa4753d4197"
      },
      "outputs": [],
      "source": [
        "X = train.drop('Exited', axis=1)\n",
        "y = train['Exited']"
      ]
    },
    {
      "cell_type": "code",
      "execution_count": null,
      "id": "f0f13c65-3f8a-403c-852b-11206fe599c2",
      "metadata": {
        "id": "f0f13c65-3f8a-403c-852b-11206fe599c2"
      },
      "outputs": [],
      "source": [
        "# 훈련 데이터 분할\n",
        "X_train, X_valid, y_train, y_valid = train_test_split(X,y,test_size=0.2,random_state=42)"
      ]
    },
    {
      "cell_type": "code",
      "execution_count": null,
      "id": "0834fed6-e61e-41e6-93f4-4308651a0bd6",
      "metadata": {
        "id": "0834fed6-e61e-41e6-93f4-4308651a0bd6",
        "outputId": "26cc0236-d199-4963-d596-988e595c1702"
      },
      "outputs": [
        {
          "name": "stdout",
          "output_type": "stream",
          "text": [
            "Fitting 3 folds for each of 243 candidates, totalling 729 fits\n"
          ]
        },
        {
          "data": {
            "text/html": [
              "<style>#sk-container-id-1 {color: black;}#sk-container-id-1 pre{padding: 0;}#sk-container-id-1 div.sk-toggleable {background-color: white;}#sk-container-id-1 label.sk-toggleable__label {cursor: pointer;display: block;width: 100%;margin-bottom: 0;padding: 0.3em;box-sizing: border-box;text-align: center;}#sk-container-id-1 label.sk-toggleable__label-arrow:before {content: \"▸\";float: left;margin-right: 0.25em;color: #696969;}#sk-container-id-1 label.sk-toggleable__label-arrow:hover:before {color: black;}#sk-container-id-1 div.sk-estimator:hover label.sk-toggleable__label-arrow:before {color: black;}#sk-container-id-1 div.sk-toggleable__content {max-height: 0;max-width: 0;overflow: hidden;text-align: left;background-color: #f0f8ff;}#sk-container-id-1 div.sk-toggleable__content pre {margin: 0.2em;color: black;border-radius: 0.25em;background-color: #f0f8ff;}#sk-container-id-1 input.sk-toggleable__control:checked~div.sk-toggleable__content {max-height: 200px;max-width: 100%;overflow: auto;}#sk-container-id-1 input.sk-toggleable__control:checked~label.sk-toggleable__label-arrow:before {content: \"▾\";}#sk-container-id-1 div.sk-estimator input.sk-toggleable__control:checked~label.sk-toggleable__label {background-color: #d4ebff;}#sk-container-id-1 div.sk-label input.sk-toggleable__control:checked~label.sk-toggleable__label {background-color: #d4ebff;}#sk-container-id-1 input.sk-hidden--visually {border: 0;clip: rect(1px 1px 1px 1px);clip: rect(1px, 1px, 1px, 1px);height: 1px;margin: -1px;overflow: hidden;padding: 0;position: absolute;width: 1px;}#sk-container-id-1 div.sk-estimator {font-family: monospace;background-color: #f0f8ff;border: 1px dotted black;border-radius: 0.25em;box-sizing: border-box;margin-bottom: 0.5em;}#sk-container-id-1 div.sk-estimator:hover {background-color: #d4ebff;}#sk-container-id-1 div.sk-parallel-item::after {content: \"\";width: 100%;border-bottom: 1px solid gray;flex-grow: 1;}#sk-container-id-1 div.sk-label:hover label.sk-toggleable__label {background-color: #d4ebff;}#sk-container-id-1 div.sk-serial::before {content: \"\";position: absolute;border-left: 1px solid gray;box-sizing: border-box;top: 0;bottom: 0;left: 50%;z-index: 0;}#sk-container-id-1 div.sk-serial {display: flex;flex-direction: column;align-items: center;background-color: white;padding-right: 0.2em;padding-left: 0.2em;position: relative;}#sk-container-id-1 div.sk-item {position: relative;z-index: 1;}#sk-container-id-1 div.sk-parallel {display: flex;align-items: stretch;justify-content: center;background-color: white;position: relative;}#sk-container-id-1 div.sk-item::before, #sk-container-id-1 div.sk-parallel-item::before {content: \"\";position: absolute;border-left: 1px solid gray;box-sizing: border-box;top: 0;bottom: 0;left: 50%;z-index: -1;}#sk-container-id-1 div.sk-parallel-item {display: flex;flex-direction: column;z-index: 1;position: relative;background-color: white;}#sk-container-id-1 div.sk-parallel-item:first-child::after {align-self: flex-end;width: 50%;}#sk-container-id-1 div.sk-parallel-item:last-child::after {align-self: flex-start;width: 50%;}#sk-container-id-1 div.sk-parallel-item:only-child::after {width: 0;}#sk-container-id-1 div.sk-dashed-wrapped {border: 1px dashed gray;margin: 0 0.4em 0.5em 0.4em;box-sizing: border-box;padding-bottom: 0.4em;background-color: white;}#sk-container-id-1 div.sk-label label {font-family: monospace;font-weight: bold;display: inline-block;line-height: 1.2em;}#sk-container-id-1 div.sk-label-container {text-align: center;}#sk-container-id-1 div.sk-container {/* jupyter's `normalize.less` sets `[hidden] { display: none; }` but bootstrap.min.css set `[hidden] { display: none !important; }` so we also need the `!important` here to be able to override the default hidden behavior on the sphinx rendered scikit-learn.org. See: https://github.com/scikit-learn/scikit-learn/issues/21755 */display: inline-block !important;position: relative;}#sk-container-id-1 div.sk-text-repr-fallback {display: none;}</style><div id=\"sk-container-id-1\" class=\"sk-top-container\"><div class=\"sk-text-repr-fallback\"><pre>GridSearchCV(cv=3,\n",
              "             estimator=XGBClassifier(base_score=None, booster=None,\n",
              "                                     callbacks=None, colsample_bylevel=None,\n",
              "                                     colsample_bynode=None,\n",
              "                                     colsample_bytree=None, device=None,\n",
              "                                     early_stopping_rounds=None,\n",
              "                                     enable_categorical=False, eval_metric=None,\n",
              "                                     feature_types=None, gamma=None,\n",
              "                                     grow_policy=None, importance_type=None,\n",
              "                                     interaction_constraints=None,\n",
              "                                     learning_rate=None,...\n",
              "                                     max_delta_step=None, max_depth=None,\n",
              "                                     max_leaves=None, min_child_weight=None,\n",
              "                                     missing=nan, monotone_constraints=None,\n",
              "                                     multi_strategy=None, n_estimators=None,\n",
              "                                     n_jobs=None, num_parallel_tree=None,\n",
              "                                     random_state=None, ...),\n",
              "             n_jobs=10,\n",
              "             param_grid={&#x27;gamma&#x27;: [1.0, 1.5, 2], &#x27;learning_rate&#x27;: [0.1, 0.5, 1],\n",
              "                         &#x27;max_depth&#x27;: [5, 6, 7],\n",
              "                         &#x27;reg_lambda&#x27;: [10.0, 25.0, 50.0],\n",
              "                         &#x27;scale_pos_weight&#x27;: [5, 7, 9]},\n",
              "             scoring=&#x27;roc_auc&#x27;, verbose=3)</pre><b>In a Jupyter environment, please rerun this cell to show the HTML representation or trust the notebook. <br />On GitHub, the HTML representation is unable to render, please try loading this page with nbviewer.org.</b></div><div class=\"sk-container\" hidden><div class=\"sk-item sk-dashed-wrapped\"><div class=\"sk-label-container\"><div class=\"sk-label sk-toggleable\"><input class=\"sk-toggleable__control sk-hidden--visually\" id=\"sk-estimator-id-1\" type=\"checkbox\" ><label for=\"sk-estimator-id-1\" class=\"sk-toggleable__label sk-toggleable__label-arrow\">GridSearchCV</label><div class=\"sk-toggleable__content\"><pre>GridSearchCV(cv=3,\n",
              "             estimator=XGBClassifier(base_score=None, booster=None,\n",
              "                                     callbacks=None, colsample_bylevel=None,\n",
              "                                     colsample_bynode=None,\n",
              "                                     colsample_bytree=None, device=None,\n",
              "                                     early_stopping_rounds=None,\n",
              "                                     enable_categorical=False, eval_metric=None,\n",
              "                                     feature_types=None, gamma=None,\n",
              "                                     grow_policy=None, importance_type=None,\n",
              "                                     interaction_constraints=None,\n",
              "                                     learning_rate=None,...\n",
              "                                     max_delta_step=None, max_depth=None,\n",
              "                                     max_leaves=None, min_child_weight=None,\n",
              "                                     missing=nan, monotone_constraints=None,\n",
              "                                     multi_strategy=None, n_estimators=None,\n",
              "                                     n_jobs=None, num_parallel_tree=None,\n",
              "                                     random_state=None, ...),\n",
              "             n_jobs=10,\n",
              "             param_grid={&#x27;gamma&#x27;: [1.0, 1.5, 2], &#x27;learning_rate&#x27;: [0.1, 0.5, 1],\n",
              "                         &#x27;max_depth&#x27;: [5, 6, 7],\n",
              "                         &#x27;reg_lambda&#x27;: [10.0, 25.0, 50.0],\n",
              "                         &#x27;scale_pos_weight&#x27;: [5, 7, 9]},\n",
              "             scoring=&#x27;roc_auc&#x27;, verbose=3)</pre></div></div></div><div class=\"sk-parallel\"><div class=\"sk-parallel-item\"><div class=\"sk-item\"><div class=\"sk-label-container\"><div class=\"sk-label sk-toggleable\"><input class=\"sk-toggleable__control sk-hidden--visually\" id=\"sk-estimator-id-2\" type=\"checkbox\" ><label for=\"sk-estimator-id-2\" class=\"sk-toggleable__label sk-toggleable__label-arrow\">estimator: XGBClassifier</label><div class=\"sk-toggleable__content\"><pre>XGBClassifier(base_score=None, booster=None, callbacks=None,\n",
              "              colsample_bylevel=None, colsample_bynode=None,\n",
              "              colsample_bytree=None, device=None, early_stopping_rounds=None,\n",
              "              enable_categorical=False, eval_metric=None, feature_types=None,\n",
              "              gamma=None, grow_policy=None, importance_type=None,\n",
              "              interaction_constraints=None, learning_rate=None, max_bin=None,\n",
              "              max_cat_threshold=None, max_cat_to_onehot=None,\n",
              "              max_delta_step=None, max_depth=None, max_leaves=None,\n",
              "              min_child_weight=None, missing=nan, monotone_constraints=None,\n",
              "              multi_strategy=None, n_estimators=None, n_jobs=None,\n",
              "              num_parallel_tree=None, random_state=None, ...)</pre></div></div></div><div class=\"sk-serial\"><div class=\"sk-item\"><div class=\"sk-estimator sk-toggleable\"><input class=\"sk-toggleable__control sk-hidden--visually\" id=\"sk-estimator-id-3\" type=\"checkbox\" ><label for=\"sk-estimator-id-3\" class=\"sk-toggleable__label sk-toggleable__label-arrow\">XGBClassifier</label><div class=\"sk-toggleable__content\"><pre>XGBClassifier(base_score=None, booster=None, callbacks=None,\n",
              "              colsample_bylevel=None, colsample_bynode=None,\n",
              "              colsample_bytree=None, device=None, early_stopping_rounds=None,\n",
              "              enable_categorical=False, eval_metric=None, feature_types=None,\n",
              "              gamma=None, grow_policy=None, importance_type=None,\n",
              "              interaction_constraints=None, learning_rate=None, max_bin=None,\n",
              "              max_cat_threshold=None, max_cat_to_onehot=None,\n",
              "              max_delta_step=None, max_depth=None, max_leaves=None,\n",
              "              min_child_weight=None, missing=nan, monotone_constraints=None,\n",
              "              multi_strategy=None, n_estimators=None, n_jobs=None,\n",
              "              num_parallel_tree=None, random_state=None, ...)</pre></div></div></div></div></div></div></div></div></div></div>"
            ],
            "text/plain": [
              "GridSearchCV(cv=3,\n",
              "             estimator=XGBClassifier(base_score=None, booster=None,\n",
              "                                     callbacks=None, colsample_bylevel=None,\n",
              "                                     colsample_bynode=None,\n",
              "                                     colsample_bytree=None, device=None,\n",
              "                                     early_stopping_rounds=None,\n",
              "                                     enable_categorical=False, eval_metric=None,\n",
              "                                     feature_types=None, gamma=None,\n",
              "                                     grow_policy=None, importance_type=None,\n",
              "                                     interaction_constraints=None,\n",
              "                                     learning_rate=None,...\n",
              "                                     max_delta_step=None, max_depth=None,\n",
              "                                     max_leaves=None, min_child_weight=None,\n",
              "                                     missing=nan, monotone_constraints=None,\n",
              "                                     multi_strategy=None, n_estimators=None,\n",
              "                                     n_jobs=None, num_parallel_tree=None,\n",
              "                                     random_state=None, ...),\n",
              "             n_jobs=10,\n",
              "             param_grid={'gamma': [1.0, 1.5, 2], 'learning_rate': [0.1, 0.5, 1],\n",
              "                         'max_depth': [5, 6, 7],\n",
              "                         'reg_lambda': [10.0, 25.0, 50.0],\n",
              "                         'scale_pos_weight': [5, 7, 9]},\n",
              "             scoring='roc_auc', verbose=3)"
            ]
          },
          "execution_count": 15,
          "metadata": {},
          "output_type": "execute_result"
        }
      ],
      "source": [
        "param_grid = {\n",
        "     'max_depth': [5, 6, 7],\n",
        "     'learning_rate': [0.1, 0.5, 1],\n",
        "     'gamma': [1.0, 1.5, 2],\n",
        "     'reg_lambda': [10.0, 25.0,50.0],\n",
        "     'scale_pos_weight': [5, 7, 9]\n",
        "}\n",
        "\n",
        "model = GridSearchCV(estimator=XGBClassifier(), param_grid=param_grid, scoring='roc_auc', verbose=3, n_jobs=10, cv=3)\n",
        "model.fit(X_train, y_train)\n",
        "\n",
        "#best_params = {'gamma': 1.0, 'learning_rate': 0.1, 'max_depth': 5, 'reg_lambda': 25.0, 'scale_pos_weight': 5}"
      ]
    },
    {
      "cell_type": "code",
      "execution_count": null,
      "id": "96989cd0-bb61-47c3-94de-5c42a703230b",
      "metadata": {
        "id": "96989cd0-bb61-47c3-94de-5c42a703230b",
        "outputId": "9a45e158-f330-4c9e-9bf7-ecc9e09e3187"
      },
      "outputs": [
        {
          "name": "stdout",
          "output_type": "stream",
          "text": [
            "Best parameters: {'gamma': 1.0, 'learning_rate': 0.1, 'max_depth': 5, 'reg_lambda': 25.0, 'scale_pos_weight': 5}\n"
          ]
        }
      ],
      "source": [
        "print(\"Best parameters:\", model.best_params_)"
      ]
    },
    {
      "cell_type": "code",
      "execution_count": null,
      "id": "26034686-b825-4313-9401-d39dd60ef98f",
      "metadata": {
        "id": "26034686-b825-4313-9401-d39dd60ef98f",
        "outputId": "979b6eda-0082-4183-9829-db8b683e1be0"
      },
      "outputs": [
        {
          "data": {
            "text/html": [
              "<style>#sk-container-id-2 {color: black;}#sk-container-id-2 pre{padding: 0;}#sk-container-id-2 div.sk-toggleable {background-color: white;}#sk-container-id-2 label.sk-toggleable__label {cursor: pointer;display: block;width: 100%;margin-bottom: 0;padding: 0.3em;box-sizing: border-box;text-align: center;}#sk-container-id-2 label.sk-toggleable__label-arrow:before {content: \"▸\";float: left;margin-right: 0.25em;color: #696969;}#sk-container-id-2 label.sk-toggleable__label-arrow:hover:before {color: black;}#sk-container-id-2 div.sk-estimator:hover label.sk-toggleable__label-arrow:before {color: black;}#sk-container-id-2 div.sk-toggleable__content {max-height: 0;max-width: 0;overflow: hidden;text-align: left;background-color: #f0f8ff;}#sk-container-id-2 div.sk-toggleable__content pre {margin: 0.2em;color: black;border-radius: 0.25em;background-color: #f0f8ff;}#sk-container-id-2 input.sk-toggleable__control:checked~div.sk-toggleable__content {max-height: 200px;max-width: 100%;overflow: auto;}#sk-container-id-2 input.sk-toggleable__control:checked~label.sk-toggleable__label-arrow:before {content: \"▾\";}#sk-container-id-2 div.sk-estimator input.sk-toggleable__control:checked~label.sk-toggleable__label {background-color: #d4ebff;}#sk-container-id-2 div.sk-label input.sk-toggleable__control:checked~label.sk-toggleable__label {background-color: #d4ebff;}#sk-container-id-2 input.sk-hidden--visually {border: 0;clip: rect(1px 1px 1px 1px);clip: rect(1px, 1px, 1px, 1px);height: 1px;margin: -1px;overflow: hidden;padding: 0;position: absolute;width: 1px;}#sk-container-id-2 div.sk-estimator {font-family: monospace;background-color: #f0f8ff;border: 1px dotted black;border-radius: 0.25em;box-sizing: border-box;margin-bottom: 0.5em;}#sk-container-id-2 div.sk-estimator:hover {background-color: #d4ebff;}#sk-container-id-2 div.sk-parallel-item::after {content: \"\";width: 100%;border-bottom: 1px solid gray;flex-grow: 1;}#sk-container-id-2 div.sk-label:hover label.sk-toggleable__label {background-color: #d4ebff;}#sk-container-id-2 div.sk-serial::before {content: \"\";position: absolute;border-left: 1px solid gray;box-sizing: border-box;top: 0;bottom: 0;left: 50%;z-index: 0;}#sk-container-id-2 div.sk-serial {display: flex;flex-direction: column;align-items: center;background-color: white;padding-right: 0.2em;padding-left: 0.2em;position: relative;}#sk-container-id-2 div.sk-item {position: relative;z-index: 1;}#sk-container-id-2 div.sk-parallel {display: flex;align-items: stretch;justify-content: center;background-color: white;position: relative;}#sk-container-id-2 div.sk-item::before, #sk-container-id-2 div.sk-parallel-item::before {content: \"\";position: absolute;border-left: 1px solid gray;box-sizing: border-box;top: 0;bottom: 0;left: 50%;z-index: -1;}#sk-container-id-2 div.sk-parallel-item {display: flex;flex-direction: column;z-index: 1;position: relative;background-color: white;}#sk-container-id-2 div.sk-parallel-item:first-child::after {align-self: flex-end;width: 50%;}#sk-container-id-2 div.sk-parallel-item:last-child::after {align-self: flex-start;width: 50%;}#sk-container-id-2 div.sk-parallel-item:only-child::after {width: 0;}#sk-container-id-2 div.sk-dashed-wrapped {border: 1px dashed gray;margin: 0 0.4em 0.5em 0.4em;box-sizing: border-box;padding-bottom: 0.4em;background-color: white;}#sk-container-id-2 div.sk-label label {font-family: monospace;font-weight: bold;display: inline-block;line-height: 1.2em;}#sk-container-id-2 div.sk-label-container {text-align: center;}#sk-container-id-2 div.sk-container {/* jupyter's `normalize.less` sets `[hidden] { display: none; }` but bootstrap.min.css set `[hidden] { display: none !important; }` so we also need the `!important` here to be able to override the default hidden behavior on the sphinx rendered scikit-learn.org. See: https://github.com/scikit-learn/scikit-learn/issues/21755 */display: inline-block !important;position: relative;}#sk-container-id-2 div.sk-text-repr-fallback {display: none;}</style><div id=\"sk-container-id-2\" class=\"sk-top-container\"><div class=\"sk-text-repr-fallback\"><pre>XGBClassifier(base_score=None, booster=None, callbacks=None,\n",
              "              colsample_bylevel=None, colsample_bynode=None,\n",
              "              colsample_bytree=None, device=None, early_stopping_rounds=None,\n",
              "              enable_categorical=False, eval_metric=None, feature_types=None,\n",
              "              gamma=1.0, grow_policy=None, importance_type=None,\n",
              "              interaction_constraints=None, learning_rate=0.1, max_bin=None,\n",
              "              max_cat_threshold=None, max_cat_to_onehot=None,\n",
              "              max_delta_step=None, max_depth=5, max_leaves=None,\n",
              "              min_child_weight=None, missing=nan, monotone_constraints=None,\n",
              "              multi_strategy=None, n_estimators=None, n_jobs=None,\n",
              "              num_parallel_tree=None, random_state=None, ...)</pre><b>In a Jupyter environment, please rerun this cell to show the HTML representation or trust the notebook. <br />On GitHub, the HTML representation is unable to render, please try loading this page with nbviewer.org.</b></div><div class=\"sk-container\" hidden><div class=\"sk-item\"><div class=\"sk-estimator sk-toggleable\"><input class=\"sk-toggleable__control sk-hidden--visually\" id=\"sk-estimator-id-4\" type=\"checkbox\" checked><label for=\"sk-estimator-id-4\" class=\"sk-toggleable__label sk-toggleable__label-arrow\">XGBClassifier</label><div class=\"sk-toggleable__content\"><pre>XGBClassifier(base_score=None, booster=None, callbacks=None,\n",
              "              colsample_bylevel=None, colsample_bynode=None,\n",
              "              colsample_bytree=None, device=None, early_stopping_rounds=None,\n",
              "              enable_categorical=False, eval_metric=None, feature_types=None,\n",
              "              gamma=1.0, grow_policy=None, importance_type=None,\n",
              "              interaction_constraints=None, learning_rate=0.1, max_bin=None,\n",
              "              max_cat_threshold=None, max_cat_to_onehot=None,\n",
              "              max_delta_step=None, max_depth=5, max_leaves=None,\n",
              "              min_child_weight=None, missing=nan, monotone_constraints=None,\n",
              "              multi_strategy=None, n_estimators=None, n_jobs=None,\n",
              "              num_parallel_tree=None, random_state=None, ...)</pre></div></div></div></div></div>"
            ],
            "text/plain": [
              "XGBClassifier(base_score=None, booster=None, callbacks=None,\n",
              "              colsample_bylevel=None, colsample_bynode=None,\n",
              "              colsample_bytree=None, device=None, early_stopping_rounds=None,\n",
              "              enable_categorical=False, eval_metric=None, feature_types=None,\n",
              "              gamma=1.0, grow_policy=None, importance_type=None,\n",
              "              interaction_constraints=None, learning_rate=0.1, max_bin=None,\n",
              "              max_cat_threshold=None, max_cat_to_onehot=None,\n",
              "              max_delta_step=None, max_depth=5, max_leaves=None,\n",
              "              min_child_weight=None, missing=nan, monotone_constraints=None,\n",
              "              multi_strategy=None, n_estimators=None, n_jobs=None,\n",
              "              num_parallel_tree=None, random_state=None, ...)"
            ]
          },
          "execution_count": 17,
          "metadata": {},
          "output_type": "execute_result"
        }
      ],
      "source": [
        "best_model = XGBClassifier(**model.best_params_)\n",
        "best_model.fit(X_train, y_train)"
      ]
    },
    {
      "cell_type": "code",
      "execution_count": null,
      "id": "9e57769d-7678-4fba-bdf3-d0de11bb52ec",
      "metadata": {
        "id": "9e57769d-7678-4fba-bdf3-d0de11bb52ec"
      },
      "outputs": [],
      "source": [
        "br = best_model.predict_proba(test)"
      ]
    },
    {
      "cell_type": "code",
      "execution_count": null,
      "id": "1aeceb60-e6f5-4f8b-87b1-b2345e2755ed",
      "metadata": {
        "id": "1aeceb60-e6f5-4f8b-87b1-b2345e2755ed",
        "outputId": "6413e4d0-53d1-478b-d2fd-70c08d9568c6"
      },
      "outputs": [
        {
          "data": {
            "text/plain": [
              "0.7782076634281948"
            ]
          },
          "execution_count": 19,
          "metadata": {},
          "output_type": "execute_result"
        }
      ],
      "source": [
        "y_pred = best_model.predict(X_valid)\n",
        "accuracy_score(y_valid, y_pred)"
      ]
    },
    {
      "cell_type": "code",
      "execution_count": null,
      "id": "ed93ace3-5bac-4a3d-85c1-5e32ec6263cf",
      "metadata": {
        "id": "ed93ace3-5bac-4a3d-85c1-5e32ec6263cf"
      },
      "outputs": [],
      "source": [
        "best_result = best_model.predict_proba(test)[:, 1]"
      ]
    },
    {
      "cell_type": "code",
      "execution_count": null,
      "id": "e01e880b-b3de-40e7-97a7-57d7d10a6b18",
      "metadata": {
        "id": "e01e880b-b3de-40e7-97a7-57d7d10a6b18"
      },
      "outputs": [],
      "source": [
        "sub = pd.DataFrame()\n",
        "sub['id'] = test_id"
      ]
    },
    {
      "cell_type": "code",
      "execution_count": null,
      "id": "bd51787e-b9a7-42c5-871c-fde69f948c6d",
      "metadata": {
        "id": "bd51787e-b9a7-42c5-871c-fde69f948c6d"
      },
      "outputs": [],
      "source": [
        "sub['Exited'] = best_result"
      ]
    },
    {
      "cell_type": "code",
      "execution_count": null,
      "id": "ab27e8b1-0fdf-4e8c-b1a3-800ed9eaf349",
      "metadata": {
        "id": "ab27e8b1-0fdf-4e8c-b1a3-800ed9eaf349"
      },
      "outputs": [],
      "source": [
        "xgb = XGBClassifier()\n",
        "cb = CatBoostClassifier()\n",
        "lg = LGBMClassifier()"
      ]
    },
    {
      "cell_type": "code",
      "execution_count": null,
      "id": "4b04d249-35c5-4550-92f2-6307d9100f4c",
      "metadata": {
        "id": "4b04d249-35c5-4550-92f2-6307d9100f4c"
      },
      "outputs": [],
      "source": [
        "xgb.fit(X_train, y_train)\n",
        "cb.fit(X_train, y_train)\n",
        "lg.fit(X_train, y_train)"
      ]
    },
    {
      "cell_type": "code",
      "execution_count": null,
      "id": "6bbc4f49-f664-4d9c-afc5-b0c883bc0506",
      "metadata": {
        "id": "6bbc4f49-f664-4d9c-afc5-b0c883bc0506"
      },
      "outputs": [],
      "source": [
        "y_score_xgb = xgb.predict_proba(X_valid)[:, 1]\n",
        "y_score_cb = cb.predict_proba(X_valid)[:, 1]\n",
        "y_score_lg = lg.predict_proba(X_valid)[:, 1]"
      ]
    },
    {
      "cell_type": "code",
      "execution_count": null,
      "id": "795d3d60-1707-4b1b-829f-839f196d60e5",
      "metadata": {
        "id": "795d3d60-1707-4b1b-829f-839f196d60e5"
      },
      "outputs": [],
      "source": [
        "fpr_xgb, tpr_xgb, _ = roc_curve(y_valid, y_score_xgb)\n",
        "roc_auc_xgb = auc(fpr_xgb, tpr_xgb)\n",
        "\n",
        "fpr_cb, tpr_cb, _ = roc_curve(y_valid, y_score_cb)\n",
        "roc_auc_cb = auc(fpr_cb, tpr_cb)\n",
        "\n",
        "fpr_lg, tpr_lg, _ = roc_curve(y_valid, y_score_lg)\n",
        "roc_auc_lg = auc(fpr_lg, tpr_lg)"
      ]
    },
    {
      "cell_type": "code",
      "execution_count": null,
      "id": "a7a3c7bb-086c-4e73-bb99-ac91afa82760",
      "metadata": {
        "id": "a7a3c7bb-086c-4e73-bb99-ac91afa82760",
        "outputId": "c6fa1104-9fdd-4a9b-adf1-6b05c7c5cfde"
      },
      "outputs": [
        {
          "data": {
            "image/png": "[encoded data removed]",
            "text/plain": [
              "<Figure size 800x600 with 1 Axes>"
            ]
          },
          "metadata": {},
          "output_type": "display_data"
        }
      ],
      "source": [
        "plt.figure(figsize=(8, 6))\n",
        "plt.plot(fpr_xgb, tpr_xgb, color='blue', lw=2, label='XGBoost (AUC = %0.2f)' % roc_auc_xgb)\n",
        "plt.plot(fpr_cb, tpr_cb, color='red', lw=2, label='CatBoost (AUC = %0.2f)' % roc_auc_cb)\n",
        "plt.plot(fpr_lg, tpr_lg, color='green', lw=2, label='LightGBM (AUC = %0.2f)' % roc_auc_lg)\n",
        "\n",
        "plt.plot([0, 1], [0, 1], color='black', lw=2, linestyle='--')\n",
        "plt.xlim([0.0, 1.0])\n",
        "plt.ylim([0.0, 1.05])\n",
        "plt.xlabel('False Positive Rate')\n",
        "plt.ylabel('True Positive Rate')\n",
        "plt.title('Receiver Operating Characteristic (ROC) Curve')\n",
        "plt.legend(loc='lower right')\n",
        "plt.show()"
      ]
    }
  ],
  "metadata": {
    "kernelspec": {
      "display_name": "Python 3 (ipykernel)",
      "language": "python",
      "name": "python3"
    },
    "language_info": {
      "codemirror_mode": {
        "name": "ipython",
        "version": 3
      },
      "file_extension": ".py",
      "mimetype": "text/x-python",
      "name": "python",
      "nbconvert_exporter": "python",
      "pygments_lexer": "ipython3",
      "version": "3.9.0"
    },
    "colab": {
      "provenance": []
    }
  },
  "nbformat": 4,
  "nbformat_minor": 5
}